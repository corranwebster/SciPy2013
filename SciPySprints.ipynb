{
 "metadata": {
  "name": "SciPySprints"
 },
 "nbformat": 3,
 "nbformat_minor": 0,
 "worksheets": [
  {
   "cells": [
    {
     "cell_type": "markdown",
     "metadata": {
      "slideshow": {
       "slide_type": "slide"
      }
     },
     "source": [
      "Getting Started at SciPy Sprints\n",
      "================================\n",
      "\n",
      "Corran Webster\n",
      "--------------"
     ]
    },
    {
     "cell_type": "markdown",
     "metadata": {
      "slideshow": {
       "slide_type": "subslide"
      }
     },
     "source": [
      "About me\n",
      "--------\n",
      "\n",
      "* Co-Chair of SciPy sprints (so when no-one else is available do this talk...)\n",
      "* Using Python since ~1995\n",
      "* Developer at Enthought\n",
      "* Sporadic contributor to many projects"
     ]
    },
    {
     "cell_type": "markdown",
     "metadata": {
      "slideshow": {
       "slide_type": "slide"
      }
     },
     "source": [
      "The Tools\n",
      "---------\n",
      "\n",
      "* Your Python environment (python, editor, etc.)\n",
      "* Version control systems (git, hg, svn, etc.)\n",
      "* Project public repo(github, bitbucket, sourceforge, etc.)\n"
     ]
    },
    {
     "cell_type": "markdown",
     "metadata": {
      "slideshow": {
       "slide_type": "subslide"
      }
     },
     "source": [
      "Python Environment\n",
      "------------------\n",
      "\n",
      "* If you can run the project's code, you've got most of what you want\n",
      "* But you might need additional tools and packages, eg:\n",
      "  - sphinx for documentation\n",
      "  - nosetests for testing\n",
      "  - compilers (gcc on linux, XCode on OS X, Visual Studio 2008 on Windows)\n",
      "* The project should tell you what you need to develop it.\n",
      "* Enthought Canopy, Continuum Anaconda, Spyder provide convenient distributions with most major dependencies."
     ]
    },
    {
     "cell_type": "markdown",
     "metadata": {
      "slideshow": {
       "slide_type": "subslide"
      }
     },
     "source": [
      "Version Control\n",
      "---------------\n",
      "\n",
      "Version control software allows multiple developers to work on a codebase at the same time without breaking each other's code.\n",
      "\n",
      "* Most projects these days are using git for version control.\n",
      "* Some use mercurial, including Python itself.\n",
      "* Some older projects are still using SVN or even CVS.\n"
     ]
    },
    {
     "cell_type": "markdown",
     "metadata": {
      "slideshow": {
       "slide_type": "subslide"
      }
     },
     "source": [
      "Public Repository\n",
      "-----------------\n",
      "\n",
      "All projects need a central repo that holds the reference copy of the codebase.\n",
      "\n",
      "* Many projects use Github, which naturally has strong git support\n",
      "* Bitbucket, Google Code, Gitorious are alternatives with support for git, mercurial and other VCS\n",
      "* Older projects may use SourceForge or self-hosted repositories.\n"
     ]
    },
    {
     "cell_type": "markdown",
     "metadata": {
      "slideshow": {
       "slide_type": "slide"
      }
     },
     "source": [
      "Setting up Git and GitHub\n",
      "-------------------------\n",
      "\n",
      "* Create an account on GitHub if you don't already have one:\n",
      "  \n",
      "  https://github.com/\n",
      "  \n",
      "* Install git on your computer and tell it about your account:\n",
      "\n",
      "  https://help.github.com/articles/set-up-git\n",
      "\n",
      "Do this now if you don't have these set up."
     ]
    },
    {
     "cell_type": "markdown",
     "metadata": {
      "slideshow": {
       "slide_type": "slide"
      }
     },
     "source": [
      "Reporting Bugs\n",
      "--------------\n",
      "\n",
      "* All software has bugs\n",
      "* Letting the development team know about issues is valuable\n",
      "* Avoid duplication of bug reports - check the open issues first\n",
      "* Reporting a bug doesn't mean it will be fixed!"
     ]
    },
    {
     "cell_type": "markdown",
     "metadata": {
      "slideshow": {
       "slide_type": "slide"
      }
     },
     "source": [
      "Getting the Code & Documentation\n",
      "--------------------------------\n",
      "\n",
      "* Fork the repository if you can\n",
      "* Download (or \"clone\" in git) the code\n"
     ]
    },
    {
     "cell_type": "markdown",
     "metadata": {
      "slideshow": {
       "slide_type": "subslide"
      }
     },
     "source": [
      "Fork the Repository\n",
      "-------------------\n",
      "\n",
      "* On GitHub go to the site's repository\n",
      "* Press the \"Fork\" button.\n"
     ]
    },
    {
     "cell_type": "markdown",
     "metadata": {
      "slideshow": {
       "slide_type": "slide"
      }
     },
     "source": [
      "Build, Install, Test\n",
      "--------------------\n",
      "\n",
      "* Build and install code with setup.py\n",
      "* Build documentation with Sphinx\n",
      "* Test with nosetests"
     ]
    },
    {
     "cell_type": "markdown",
     "metadata": {
      "slideshow": {
       "slide_type": "subslide"
      }
     },
     "source": [
      "Using setup.py\n",
      "--------------\n",
      "\n",
      "Most projects have a setup.py file which works with Distutils to build and install the code.  When working with a module, Setuptool's \"develop\" mode is useful:\n",
      "\n",
      "    python setup.py develop\n",
      "\n",
      "Builds the modules in place and modifies `sys.path` to include the code.\n",
      "\n",
      "Occasionally you will want to build extension modules in-place as well:\n",
      "\n",
      "    python setup.py build_ext --inplace\n",
      "\n",
      "does this."
     ]
    },
    {
     "cell_type": "markdown",
     "metadata": {
      "slideshow": {
       "slide_type": "subslide"
      }
     },
     "source": [
      "Documentation\n",
      "-------------\n",
      "\n",
      "If you are lucky, documentation gets built by `setup.py`.\n",
      "\n",
      "If not, Sphix-based documentation can be build by finding the documentation directory and running the appropriate make command for the platform and target format:\n",
      "\n",
      "    make html\n",
      "\n",
      "or on Windows:\n",
      "\n",
      "    make.bat html\n",
      "    "
     ]
    },
    {
     "cell_type": "markdown",
     "metadata": {
      "slideshow": {
       "slide_type": "subslide"
      }
     },
     "source": [
      "Tests\n",
      "-----\n",
      "\n",
      "You can usually run tests as stand-alone modules, but even better is to use \"nosetests\" which \"sniffs\" out tests in various ways.  To run:\n",
      "\n",
      "    nose test_module.py\n",
      "\n",
      "or on a whole directory:\n",
      "\n",
      "    nose tests"
     ]
    },
    {
     "cell_type": "markdown",
     "metadata": {
      "slideshow": {
       "slide_type": "slide"
      }
     },
     "source": [
      "Write Code\n",
      "----------\n",
      "\n",
      "* Branch your repository\n",
      "* Modify the code, tests and documentation\n",
      "* Commit your changes to the branch\n",
      "* Push your branch to your fork\n",
      "* repeat as needed, until you're happy"
     ]
    },
    {
     "cell_type": "markdown",
     "metadata": {
      "slideshow": {
       "slide_type": "slide"
      }
     },
     "source": [
      "Make a Pull Request\n",
      "-------------------\n",
      "\n",
      "* Make a pull request against the appropriate branch in the project repo\n",
      "* Reference any issues that you are fixing\n",
      "* Work with project team members to review your request\n",
      "* It may be rejected, modifications may be asked for, or it may be merged"
     ]
    },
    {
     "cell_type": "code",
     "collapsed": false,
     "input": [],
     "language": "python",
     "metadata": {},
     "outputs": []
    }
   ],
   "metadata": {}
  }
 ]
}